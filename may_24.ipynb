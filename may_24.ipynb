{
 "cells": [
  {
   "cell_type": "code",
   "execution_count": 31,
   "id": "8a2225c3",
   "metadata": {},
   "outputs": [
    {
     "name": "stdout",
     "output_type": "stream",
     "text": [
      "The finance ministry is expected to come out with a single volume Economic Survey\n",
      "\n",
      "projecting growth of around 9% for the next financial year.\n",
      "\n",
      "Last year's survey, presented in the midst of the Covid-19 pandemic, had projected a GDP growth of 11% \n",
      "\n",
      "during the current fiscal year which is coming to an end on 31 March.\n",
      "\n",
      "The survey had said growth will be supported by a supply-side push from reforms and easing of regulations,\n",
      "\n",
      "push for infrastructural investments, boost to manufacturing sector through the Production-Linked Incentive (PLI) schemes,\n",
      "\n",
      "recovery of pent-up demand, increase in discretionary consumption subsequent to the rollout of vaccines and pick up in credit \n",
      "\n",
      "given adequate liquidity and low-interest rates.\n",
      "\n",
      "\n",
      "\n"
     ]
    },
    {
     "data": {
      "text/plain": [
       "0"
      ]
     },
     "execution_count": 31,
     "metadata": {},
     "output_type": "execute_result"
    }
   ],
   "source": [
    "file=open(\"input.txt\")\n",
    "n=10\n",
    "for i in range(n):\n",
    "    line=file.readline()\n",
    "    print(line)\n",
    "file1=open(\"input1.txt\",\"w\")\n",
    "file1.write(line)  "
   ]
  },
  {
   "cell_type": "code",
   "execution_count": 30,
   "id": "cfd4f8b2",
   "metadata": {},
   "outputs": [
    {
     "name": "stdout",
     "output_type": "stream",
     "text": [
      "The finance ministry is expected to come out with a single volume Economic Survey\n",
      "projecting growth of around 9% for the next financial year.\n",
      "Last year's survey, presented in the midst of the Covid-19 pandemic, had projected a GDP growth of 11% \n",
      "during the current fiscal year which is coming to an end on 31 March.\n",
      "The survey had said growth will be supported by a supply-side push from reforms and easing of regulations,\n",
      "push for infrastructural investments, boost to manufacturing sector through the Production-Linked Incentive (PLI) schemes,\n",
      "recovery of pent-up demand, increase in discretionary consumption subsequent to the rollout of vaccines and pick up in credit \n",
      "given adequate liquidity and low-interest rates.\n",
      "\n"
     ]
    }
   ],
   "source": [
    "file=open('input.txt','r')\n",
    "print(file.read())"
   ]
  },
  {
   "cell_type": "code",
   "execution_count": 41,
   "id": "c2c66c1e",
   "metadata": {},
   "outputs": [],
   "source": [
    "with open(\"input.txt\",\"r\") as file, open(\"input_first_3_lines.txt\",\"w\") as file1:\n",
    "    lines=file.readlines()[1:4]\n",
    "    for line in lines:\n",
    "        file1.write(line)\n",
    "with open(\"input.txt\",\"r\") as file, open(\"input_last_5_lines.txt\",\"w\") as file2:\n",
    "    lines=file.readlines()[-3:]\n",
    "    for line in lines:\n",
    "        file2.write(line)"
   ]
  },
  {
   "cell_type": "code",
   "execution_count": 36,
   "id": "a9baa85a",
   "metadata": {},
   "outputs": [
    {
     "name": "stdout",
     "output_type": "stream",
     "text": [
      "projecting growth of around 9% for the next financial year.\n",
      "Last year's survey, presented in the midst of the Covid-19 pandemic, had projected a GDP growth of 11% \n",
      "during the current fiscal year which is coming to an end on 31 March.\n",
      "\n"
     ]
    }
   ],
   "source": [
    "with open(\"input_first_3_lines.txt\",\"r\") as file1:\n",
    "    print(file1.read())"
   ]
  },
  {
   "cell_type": "code",
   "execution_count": 42,
   "id": "dd5c3bcc",
   "metadata": {},
   "outputs": [
    {
     "name": "stdout",
     "output_type": "stream",
     "text": [
      "push for infrastructural investments, boost to manufacturing sector through the Production-Linked Incentive (PLI) schemes,\n",
      "recovery of pent-up demand, increase in discretionary consumption subsequent to the rollout of vaccines and pick up in credit \n",
      "given adequate liquidity and low-interest rates.\n",
      "\n"
     ]
    }
   ],
   "source": [
    "with open(\"input_last_5_lines.txt\",\"r\") as file2:\n",
    "    print(file2.read())\n"
   ]
  },
  {
   "cell_type": "code",
   "execution_count": 2,
   "id": "0fe3c9d4",
   "metadata": {},
   "outputs": [
    {
     "name": "stdout",
     "output_type": "stream",
     "text": [
      "The finance ministry is expected to come out with a single volume Economic Survey\n",
      "\n",
      "projecting growth of around 9% for the next financial year.\n",
      "\n",
      "Last year's survey, presented in the midst of the Covid-19 pandemic, had projected a GDP growth of 11% \n",
      "\n"
     ]
    }
   ],
   "source": [
    "file=open(\"input.txt\",\"r\")\n",
    "n=3\n",
    "for i in range(1,n+1):\n",
    "    line=file.readline()\n",
    "    print(line)\n",
    "file1=open(\"input1.txt\",\"w\")\n",
    "file1.writelines(line)"
   ]
  },
  {
   "cell_type": "code",
   "execution_count": 4,
   "id": "11fcb2be",
   "metadata": {},
   "outputs": [
    {
     "name": "stdout",
     "output_type": "stream",
     "text": [
      "['projecting growth of around 9% for the next financial year.\\n', \"Last year's survey, presented in the midst of the Covid-19 pandemic, had projected a GDP growth of 11% \\n\", 'during the current fiscal year which is coming to an end on 31 March.\\n', 'The survey had said growth will be supported by a supply-side push from reforms and easing of regulations,\\n', 'push for infrastructural investments, boost to manufacturing sector through the Production-Linked Incentive (PLI) schemes,\\n', 'recovery of pent-up demand, increase in discretionary consumption subsequent to the rollout of vaccines and pick up in credit \\n', 'given adequate liquidity and low-interest rates.\\n']\n"
     ]
    }
   ],
   "source": [
    "with open(\"input.txt\") as file1:\n",
    "\n",
    "    lines=file1.readlines()[1:10]\n",
    "    print(lines)\n",
    "with open(\"input1.txt\",\"w\") as file2:\n",
    "    file.writelines(cl)\n"
   ]
  },
  {
   "cell_type": "code",
   "execution_count": 50,
   "id": "c4c1d8ce",
   "metadata": {},
   "outputs": [],
   "source": [
    "# Use the same file1.txt\n",
    "# go to the 50th char position.\n",
    "# copy the next 40 char and store it in a file\n",
    "# called file_50.txt\n",
    "# Process the file1.txt from the end. Fetch the last\n",
    "# 75 char and store it in a file file2_75.txt\n",
    "\n",
    "with open(\"input.txt\",\"r\") as file, open(\"input_char50.txt\",\"w\") as file1:\n",
    "    r=file.read()[50:90]\n",
    "    for char in r:\n",
    "        file1.write(char)\n",
    "with open(\"input.txt\",\"r\") as file, open(\"input_last_75_char.txt\",\"w\") as file2:\n",
    "    r1=file.read()[-75:]\n",
    "    for char in r1:\n",
    "        file2.write(char)"
   ]
  },
  {
   "cell_type": "code",
   "execution_count": 47,
   "id": "44a2f523",
   "metadata": {},
   "outputs": [
    {
     "name": "stdout",
     "output_type": "stream",
     "text": [
      "a single volume Economic Survey\n",
      "projecti\n"
     ]
    }
   ],
   "source": [
    "with open(\"input_char50.txt\",\"r\") as file1:\n",
    "    print(file1.read())"
   ]
  },
  {
   "cell_type": "code",
   "execution_count": 51,
   "id": "a3bf04ef",
   "metadata": {},
   "outputs": [
    {
     "name": "stdout",
     "output_type": "stream",
     "text": [
      "es and pick up in credit \n",
      "given adequate liquidity and low-interest rates.\n",
      "\n"
     ]
    }
   ],
   "source": [
    "with open(\"input_last_75_char.txt\",\"r\") as file2:\n",
    "    print(file2.read())"
   ]
  },
  {
   "cell_type": "code",
   "execution_count": 2,
   "id": "3de28041",
   "metadata": {},
   "outputs": [
    {
     "name": "stdout",
     "output_type": "stream",
     "text": [
      "Enter a Product_id : 101\n",
      "Enter a Product Name : Tv\n",
      "Enter a Product Catagary : A\n",
      "Enter a Price of the Product : 34000\n",
      "Enter a Product_id : 102\n",
      "Enter a Product Name : Table\n",
      "Enter a Product Catagary : C\n",
      "Enter a Price of the Product : 3400\n",
      "Enter a Product_id : -1\n",
      "{101: ['Tv', 'A', 34000, 38250.0], 102: ['Table', 'C', 3400, 3672.0]}\n"
     ]
    }
   ],
   "source": [
    "#  Store prod id, prod name, prod catg, prod price\n",
    "#    and prod selling price (first) in a dict\n",
    "#    when the user enters -1 then stop and write the \n",
    "#    dict in binary mode to a file\n",
    "#    prod.dat\n",
    "#    prod catg should be either A or B or C\n",
    "#    if the catg is A then on the prod price (CP)\n",
    "#    have 12.5% margin then compute the prod selling price\n",
    "#    SP = CP + margin\n",
    "#    if the catg is B then the margin is 9.5%\n",
    "#    if the catg is C then the margin is 8%\n",
    "prod_dict={}\n",
    "while True:\n",
    "    prod_id=int(input(\"Enter a Product_id : \"))\n",
    "    if prod_id==-1:\n",
    "        break\n",
    "    prod_name=input(\"Enter a Product Name : \")\n",
    "    prod_catg=input(\"Enter a Product Catagary : \")\n",
    "    prod_price=int(input(\"Enter a Price of the Product : \"))\n",
    "    if prod_catg==\"A\":\n",
    "        selling_price=prod_price+(prod_price*0.125)\n",
    "    elif prod_catg==\"B\":\n",
    "        selling_price=prod_price+(prod_price*0.95)\n",
    "    elif prod_catg==\"C\":\n",
    "        selling_price=prod_price+(prod_price*0.08)\n",
    "\n",
    "    prod_dict.update({prod_id:[prod_name,prod_catg,prod_price,selling_price]})\n",
    "print(prod_dict)"
   ]
  },
  {
   "cell_type": "code",
   "execution_count": 9,
   "id": "6de6af82",
   "metadata": {},
   "outputs": [
    {
     "data": {
      "text/plain": [
       "69"
      ]
     },
     "execution_count": 9,
     "metadata": {},
     "output_type": "execute_result"
    }
   ],
   "source": [
    "dict_file=open(\"dict_file.txt\",\"w\")\n",
    "dict_file.write(str(prod_dict))"
   ]
  },
  {
   "cell_type": "code",
   "execution_count": 11,
   "id": "804445a5",
   "metadata": {},
   "outputs": [
    {
     "name": "stdout",
     "output_type": "stream",
     "text": [
      "{101: ['Tv', 'A', 34000, 38250.0], 102: ['Table', 'C', 3400, 3672.0]}\n"
     ]
    }
   ],
   "source": [
    "dict_file=open(\"dict_file.txt\",\"r\")\n",
    "print(dict_file.read())"
   ]
  },
  {
   "cell_type": "code",
   "execution_count": 18,
   "id": "5e3d554b",
   "metadata": {},
   "outputs": [],
   "source": [
    "import pickle\n",
    "binary_file=open(\"binary_file.txt\",\"wb\")\n",
    "pickle.dump(prod_dict,binary_file)"
   ]
  },
  {
   "cell_type": "code",
   "execution_count": 19,
   "id": "e750b2a4",
   "metadata": {},
   "outputs": [
    {
     "name": "stdout",
     "output_type": "stream",
     "text": [
      "€\u0004•>\u0000\u0000\u0000\u0000\u0000\u0000\u0000}”(Ke]”(Œ\u0002Tv”Œ\u0001A”MÐ„G@â­@\u0000\u0000\u0000\u0000eKf]”(Œ\u0005Table”Œ\u0001C”MH\n",
      "G@¬°\u0000\u0000\u0000\u0000\u0000eu.\n"
     ]
    }
   ],
   "source": [
    "binary_file=open(\"binary_file.txt\",\"r\")\n",
    "print(binary_file.read())"
   ]
  },
  {
   "cell_type": "code",
   "execution_count": null,
   "id": "f1f82060",
   "metadata": {},
   "outputs": [],
   "source": []
  }
 ],
 "metadata": {
  "kernelspec": {
   "display_name": "Python 3",
   "language": "python",
   "name": "python3"
  },
  "language_info": {
   "codemirror_mode": {
    "name": "ipython",
    "version": 3
   },
   "file_extension": ".py",
   "mimetype": "text/x-python",
   "name": "python",
   "nbconvert_exporter": "python",
   "pygments_lexer": "ipython3",
   "version": "3.8.8"
  }
 },
 "nbformat": 4,
 "nbformat_minor": 5
}
